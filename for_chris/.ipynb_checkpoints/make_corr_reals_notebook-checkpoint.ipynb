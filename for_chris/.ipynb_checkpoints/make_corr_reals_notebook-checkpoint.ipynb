{
 "cells": [
  {
   "cell_type": "code",
   "execution_count": 16,
   "id": "10a385ab",
   "metadata": {},
   "outputs": [],
   "source": [
    "%load_ext autoreload\n",
    "%autoreload 2\n"
   ]
  },
  {
   "cell_type": "code",
   "execution_count": 17,
   "id": "ef923368",
   "metadata": {},
   "outputs": [],
   "source": [
    "\n",
    "import numpy as np, sys, os, warnings\n",
    "import tools\n",
    "\n",
    "from pylab import *\n",
    "cmap = cm.RdYlBu_r\n"
   ]
  },
  {
   "cell_type": "code",
   "execution_count": 18,
   "id": "0adea247",
   "metadata": {},
   "outputs": [],
   "source": [
    "rcParams['figure.dpi'] = 150\n",
    "rcParams[\"figure.facecolor\"] = 'white'"
   ]
  },
  {
   "cell_type": "code",
   "execution_count": 19,
   "id": "7f2bb786",
   "metadata": {},
   "outputs": [],
   "source": [
    "#get params for sim generation\n",
    "band_arr = [90, 150, 220]\n",
    "noise_dic = {90: 4, 150: 3., 220: 15.}\n",
    "elknee, alphaknee = 5000., 4.\n",
    "lmax = 5000\n",
    "els = np.arange(lmax)\n",
    "#boxsize_arcmins, dx = 600., 1.0 #arcminutes\n",
    "boxsize_arcmins, dx = 300., 1. #arcminutes\n",
    "total_sims = 5"
   ]
  },
  {
   "cell_type": "code",
   "execution_count": 20,
   "id": "be71ee34",
   "metadata": {},
   "outputs": [],
   "source": [
    "#get ra, dec or map-pixel grid\n",
    "nx = int(boxsize_arcmins/dx)\n",
    "mapparams = [nx, nx, dx, dx]\n",
    "x1, x2 = -nx/2. * dx, nx/2. * dx\n",
    "x1_deg, x2_deg = x1/60., x2/60.\n",
    "\n",
    "ra_for_grid = np.linspace(x1,x2, nx)/60.\n",
    "dec_for_grid = np.linspace(x1,x2, nx)/60.\n",
    "ra_grid, dec_grid = np.meshgrid(ra_for_grid,dec_for_grid)"
   ]
  },
  {
   "cell_type": "code",
   "execution_count": 23,
   "id": "f74c942f",
   "metadata": {},
   "outputs": [
    {
     "name": "stdout",
     "output_type": "stream",
     "text": [
      "dict_keys([(0, 0), (0, 1), (0, 2), (1, 1), (1, 2), (2, 2)])\n",
      "Sim = 1 of 5\n"
     ]
    },
    {
     "name": "stderr",
     "output_type": "stream",
     "text": [
      "/Users/sraghunathan/Research/git/cosmology_school/for_chris/make_corr_realisations.py:44: RuntimeWarning: divide by zero encountered in true_divide\n",
      "  #map stuff\n",
      "[autoreload of make_corr_realisations failed: Traceback (most recent call last):\n",
      "  File \"/usr/local/lib/python3.9/site-packages/IPython/extensions/autoreload.py\", line 245, in check\n",
      "    superreload(m, reload, self.old_objects)\n",
      "  File \"/usr/local/lib/python3.9/site-packages/IPython/extensions/autoreload.py\", line 394, in superreload\n",
      "    module = reload(module)\n",
      "  File \"/usr/local/Cellar/python@3.9/3.9.9/Frameworks/Python.framework/Versions/3.9/lib/python3.9/imp.py\", line 314, in reload\n",
      "    return importlib.reload(module)\n",
      "  File \"/usr/local/Cellar/python@3.9/3.9.9/Frameworks/Python.framework/Versions/3.9/lib/python3.9/importlib/__init__.py\", line 169, in reload\n",
      "    _bootstrap._exec(spec, module)\n",
      "  File \"<frozen importlib._bootstrap>\", line 613, in _exec\n",
      "  File \"<frozen importlib._bootstrap_external>\", line 850, in exec_module\n",
      "  File \"<frozen importlib._bootstrap>\", line 228, in _call_with_frames_removed\n",
      "  File \"/Users/sraghunathan/Research/git/cosmology_school/for_chris/make_corr_realisations.py\", line 81, in <module>\n",
      "    noise_sim_arr = make_gaussian_realisation(mapparams, els, nl_dic_for_sims, theory_is_1d_or_2D = '1d')\n",
      "NameError: name 'make_gaussian_realisation' is not defined\n",
      "]\n",
      "/var/folders/08/mkcy0rls72j2q09krs7qx2jw0000gn/T/ipykernel_30385/876222821.py:13: RuntimeWarning: divide by zero encountered in true_divide\n",
      "  curr_nl_atm = np.copy(curr_nl_white) * (elknee * 1./els)**alphaknee\n"
     ]
    }
   ],
   "source": [
    "#define theory spectra now\n",
    "nl_dic = {}\n",
    "\n",
    "#autos first\n",
    "nl_atm_dic = {}\n",
    "for band in band_arr:\n",
    "\n",
    "    #white\n",
    "    delta_T_radians = noise_dic[band] * np.radians(1./60.)\n",
    "    curr_nl_white = np.tile(delta_T_radians**2., len(els) )\n",
    "\n",
    "    #atm\n",
    "    curr_nl_atm = np.copy(curr_nl_white) * (elknee * 1./els)**alphaknee\n",
    "    curr_nl_atm[np.isinf(curr_nl_atm) | np.isnan(curr_nl_atm) ] = 0.\n",
    "    nl_atm_dic[(band, band)] = curr_nl_atm\n",
    "\n",
    "    #total\n",
    "    curr_nl = curr_nl_white + curr_nl_atm\n",
    "    curr_nl[np.isinf(curr_nl) | np.isnan(curr_nl) ] = 0.\n",
    "    nl_dic[(band, band)] = curr_nl\n",
    "\n",
    "#crosses\n",
    "rho = 0. ##0.9 #xx per cent corr atm noise for the crosses.\n",
    "for band1 in band_arr:\n",
    "    for band2 in band_arr:\n",
    "        if band1 == band2: continue\n",
    "        curr_nl_atm_band1 = nl_atm_dic[(band1, band1)]\n",
    "        curr_nl_atm_band2 = nl_atm_dic[(band2, band2)]\n",
    "        curr_nl_atm_band1_band2 = rho * np.sqrt( curr_nl_atm_band1**2 * curr_nl_atm_band2**2. )\n",
    "        nl_dic[(band1, band2)] = curr_nl_atm_band1_band2\n",
    "\n",
    "for b1b2 in nl_dic: #remove nans  and inf\n",
    "    curr_nl = nl_dic[b1b2]\n",
    "    curr_nl[np.isnan(curr_nl) | np.isinf(curr_nl)] = 0.\n",
    "    nl_dic[b1b2] = curr_nl"
   ]
  },
  {
   "cell_type": "code",
   "execution_count": 24,
   "id": "3a6fd399",
   "metadata": {},
   "outputs": [
    {
     "name": "stdout",
     "output_type": "stream",
     "text": [
      "dict_keys([(0, 0), (0, 1), (0, 2), (1, 1), (1, 2), (2, 2)])\n",
      "Sim = 1 of 5\n"
     ]
    },
    {
     "ename": "NameError",
     "evalue": "name 'np' is not defined",
     "output_type": "error",
     "traceback": [
      "\u001b[0;31m---------------------------------------------------------------------------\u001b[0m",
      "\u001b[0;31mNameError\u001b[0m                                 Traceback (most recent call last)",
      "\u001b[0;32m/var/folders/08/mkcy0rls72j2q09krs7qx2jw0000gn/T/ipykernel_30385/278289190.py\u001b[0m in \u001b[0;36m<module>\u001b[0;34m\u001b[0m\n\u001b[1;32m     10\u001b[0m \u001b[0;32mfor\u001b[0m \u001b[0msim_no\u001b[0m \u001b[0;32min\u001b[0m \u001b[0mrange\u001b[0m\u001b[0;34m(\u001b[0m \u001b[0mtotal_sims\u001b[0m \u001b[0;34m)\u001b[0m\u001b[0;34m:\u001b[0m\u001b[0;34m\u001b[0m\u001b[0;34m\u001b[0m\u001b[0m\n\u001b[1;32m     11\u001b[0m     \u001b[0mprint\u001b[0m\u001b[0;34m(\u001b[0m\u001b[0;34m'Sim = %s of %s'\u001b[0m \u001b[0;34m%\u001b[0m\u001b[0;34m(\u001b[0m\u001b[0msim_no\u001b[0m\u001b[0;34m+\u001b[0m\u001b[0;36m1\u001b[0m\u001b[0;34m,\u001b[0m \u001b[0mtotal_sims\u001b[0m\u001b[0;34m)\u001b[0m\u001b[0;34m)\u001b[0m\u001b[0;34m\u001b[0m\u001b[0;34m\u001b[0m\u001b[0m\n\u001b[0;32m---> 12\u001b[0;31m     \u001b[0mnoise_sim_arr\u001b[0m \u001b[0;34m=\u001b[0m \u001b[0mtools\u001b[0m\u001b[0;34m.\u001b[0m\u001b[0mmake_gaussian_realisation\u001b[0m\u001b[0;34m(\u001b[0m\u001b[0mmapparams\u001b[0m\u001b[0;34m,\u001b[0m \u001b[0mels\u001b[0m\u001b[0;34m,\u001b[0m \u001b[0mnl_dic_for_sims\u001b[0m\u001b[0;34m,\u001b[0m \u001b[0mtheory_is_1d_or_2D\u001b[0m \u001b[0;34m=\u001b[0m \u001b[0;34m'1d'\u001b[0m\u001b[0;34m)\u001b[0m\u001b[0;34m\u001b[0m\u001b[0;34m\u001b[0m\u001b[0m\n\u001b[0m\u001b[1;32m     13\u001b[0m     \u001b[0mprint\u001b[0m\u001b[0;34m(\u001b[0m \u001b[0mnoise_sim_arr\u001b[0m\u001b[0;34m.\u001b[0m\u001b[0mshape\u001b[0m \u001b[0;34m)\u001b[0m\u001b[0;34m;\u001b[0m \u001b[0;31m##sys.exit()\u001b[0m\u001b[0;34m\u001b[0m\u001b[0;34m\u001b[0m\u001b[0m\n\u001b[1;32m     14\u001b[0m \u001b[0;34m\u001b[0m\u001b[0m\n",
      "\u001b[0;32m~/Research/git/cosmology_school/for_chris/tools.py\u001b[0m in \u001b[0;36mmake_gaussian_realisation\u001b[0;34m(flatskymapparams, el, cl_dic, theory_is_1d_or_2D)\u001b[0m\n\u001b[1;32m     37\u001b[0m     \"\"\"\n\u001b[1;32m     38\u001b[0m     \u001b[0mFor\u001b[0m \u001b[0;34m\"N\"\u001b[0m \u001b[0mmaps\u001b[0m\u001b[0;34m,\u001b[0m \u001b[0mwe\u001b[0m \u001b[0mwill\u001b[0m \u001b[0mhave\u001b[0m \u001b[0mN\u001b[0m \u001b[0;34m(\u001b[0m\u001b[0mN\u001b[0m \u001b[0;34m+\u001b[0m\u001b[0;36m1\u001b[0m\u001b[0;34m)\u001b[0m\u001b[0;34m/\u001b[0m\u001b[0;36m2\u001b[0m \u001b[0;34m=\u001b[0m \u001b[0mtotal\u001b[0m \u001b[0mspectra\u001b[0m \u001b[0mwhich\u001b[0m \u001b[0;32mis\u001b[0m \u001b[0mtotal_spec\u001b[0m\u001b[0;34m\u001b[0m\u001b[0;34m\u001b[0m\u001b[0m\n\u001b[0;32m---> 39\u001b[0;31m     \u001b[0;34m(\u001b[0m\u001b[0mN\u001b[0m\u001b[0;34m^\u001b[0m\u001b[0;36m2\u001b[0m \u001b[0;34m+\u001b[0m \u001b[0mN\u001b[0m\u001b[0;34m)\u001b[0m\u001b[0;34m/\u001b[0m\u001b[0;36m2\u001b[0m \u001b[0;34m=\u001b[0m \u001b[0mtotal_spec\u001b[0m\u001b[0;34m\u001b[0m\u001b[0;34m\u001b[0m\u001b[0m\n\u001b[0m\u001b[1;32m     40\u001b[0m     \u001b[0mN\u001b[0m\u001b[0;34m^\u001b[0m\u001b[0;36m2\u001b[0m \u001b[0;34m+\u001b[0m \u001b[0mN\u001b[0m \u001b[0;34m-\u001b[0m \u001b[0;36m2\u001b[0m \u001b[0;34m*\u001b[0m \u001b[0mtotal_spec\u001b[0m \u001b[0;34m=\u001b[0m \u001b[0;36m0\u001b[0m\u001b[0;34m\u001b[0m\u001b[0;34m\u001b[0m\u001b[0m\n\u001b[1;32m     41\u001b[0m     \u001b[0ma\u001b[0m \u001b[0;34m=\u001b[0m \u001b[0;36m1\u001b[0m\u001b[0;34m,\u001b[0m \u001b[0mb\u001b[0m \u001b[0;34m=\u001b[0m \u001b[0;36m1\u001b[0m\u001b[0;34m,\u001b[0m \u001b[0mc\u001b[0m \u001b[0;34m=\u001b[0m \u001b[0;34m-\u001b[0m \u001b[0;34m(\u001b[0m\u001b[0;36m2\u001b[0m \u001b[0;34m*\u001b[0m \u001b[0mtotal_spec\u001b[0m\u001b[0;34m)\u001b[0m\u001b[0;34m\u001b[0m\u001b[0;34m\u001b[0m\u001b[0m\n",
      "\u001b[0;31mNameError\u001b[0m: name 'np' is not defined"
     ]
    }
   ],
   "source": [
    "#make sims now\n",
    "nl_dic_for_sims = {}\n",
    "for b1cntr, band1 in enumerate( band_arr ):\n",
    "    for b2cntr, band2 in enumerate( band_arr ):\n",
    "        if band2<band1: continue\n",
    "        nl_dic_for_sims[(b1cntr, b2cntr)] = nl_dic[(band1, band2)]\n",
    "print(nl_dic_for_sims.keys()); ##sys.exit()\n",
    "\n",
    "nl_dic_sims = {}\n",
    "for sim_no in range( total_sims ):\n",
    "    print('Sim = %s of %s' %(sim_no+1, total_sims))\n",
    "    noise_sim_arr = tools.make_gaussian_realisation(mapparams, els, nl_dic_for_sims, theory_is_1d_or_2D = '1d')\n",
    "    print( noise_sim_arr.shape ); ##sys.exit()\n",
    "\n",
    "    #get the sim spectra now.\n",
    "    curr_sim_nl_dic = {}\n",
    "    for (band1, map1) in zip( band_arr, noise_sim_arr ):\n",
    "        for (band2, map2) in zip( band_arr, noise_sim_arr ):\n",
    "            if band2<band1: continue\n",
    "            els_sim, cl_sim = map2cl(mapparams, map1, map2)\n",
    "            curr_sim_nl_dic[(band1, band2)] = [els_sim, cl_sim]\n",
    "    nl_dic_sims[sim_no] = curr_sim_nl_dic"
   ]
  },
  {
   "cell_type": "code",
   "execution_count": null,
   "id": "20c00b6b",
   "metadata": {},
   "outputs": [],
   "source": []
  }
 ],
 "metadata": {
  "kernelspec": {
   "display_name": "Python 3 (ipykernel)",
   "language": "python",
   "name": "python3"
  },
  "language_info": {
   "codemirror_mode": {
    "name": "ipython",
    "version": 3
   },
   "file_extension": ".py",
   "mimetype": "text/x-python",
   "name": "python",
   "nbconvert_exporter": "python",
   "pygments_lexer": "ipython3",
   "version": "3.9.9"
  }
 },
 "nbformat": 4,
 "nbformat_minor": 5
}
